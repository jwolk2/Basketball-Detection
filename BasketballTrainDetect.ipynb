{
  "nbformat": 4,
  "nbformat_minor": 0,
  "metadata": {
    "colab": {
      "provenance": []
    },
    "kernelspec": {
      "name": "python3",
      "display_name": "Python 3"
    },
    "language_info": {
      "name": "python"
    },
    "accelerator": "GPU",
    "gpuClass": "standard"
  },
  "cells": [
    {
      "cell_type": "markdown",
      "source": [
        "**Training Setup**"
      ],
      "metadata": {
        "id": "f8pBc0eMieAt"
      }
    },
    {
      "cell_type": "code",
      "execution_count": null,
      "metadata": {
        "id": "2Y-ioFW3hZej"
      },
      "outputs": [],
      "source": [
        "# clone the YOLOv5 repo for detection training\n",
        "!git clone https://github.com/ultralytics/yolov5\n",
        "%cd yolov5\n",
        "!pip install -r requirements.txt"
      ]
    },
    {
      "cell_type": "markdown",
      "source": [
        "This code block is accessed through downloading the dataset at https://universe.roboflow.com/eagle-eye/basketball-1zhpe/dataset/1"
      ],
      "metadata": {
        "id": "P9cXeRWJsCB0"
      }
    },
    {
      "cell_type": "code",
      "source": [
        "# dataset is accessed through roboflow\n",
        "!pip install roboflow\n",
        "\n",
        "from roboflow import Roboflow\n",
        "rf = Roboflow(api_key=\"YOUR API KEY HERE\") # associated to a roboflow account\n",
        "project = rf.workspace(\"eagle-eye\").project(\"basketball-1zhpe\")\n",
        "dataset = project.version(1).download(\"yolov5\")"
      ],
      "metadata": {
        "id": "TvDjNaJzrQtE"
      },
      "execution_count": null,
      "outputs": []
    },
    {
      "cell_type": "code",
      "source": [
        "# add modified detection file to the YOLOv5 directory\n",
        "!wget https://github.com/jwolk2/Basketball-Detection/blob/main/linedetect.py"
      ],
      "metadata": {
        "id": "Rbwger95hwlx"
      },
      "execution_count": null,
      "outputs": []
    },
    {
      "cell_type": "markdown",
      "source": [
        "**Training**"
      ],
      "metadata": {
        "id": "EAyAX3hrkTms"
      }
    },
    {
      "cell_type": "code",
      "source": [
        "!python train.py --img 416 --batch 16 --epochs 10 --data /content/yolov5/Basketball-1/data.yaml --weights yolov5s.pt --cache ram"
      ],
      "metadata": {
        "id": "smYRYV96kO1Q"
      },
      "execution_count": null,
      "outputs": []
    },
    {
      "cell_type": "markdown",
      "source": [
        "**Testing**"
      ],
      "metadata": {
        "id": "fXBYmCNUs-JB"
      }
    },
    {
      "cell_type": "code",
      "source": [
        "!python val.py --task test --img 416 --data /content/yolov5/Basketball-1/data.yaml --weights {best train weight location}"
      ],
      "metadata": {
        "id": "UU3ei--ts9qi"
      },
      "execution_count": null,
      "outputs": []
    },
    {
      "cell_type": "markdown",
      "source": [
        "**Detection and Prediction**"
      ],
      "metadata": {
        "id": "ZF2VtlU_uLgo"
      }
    },
    {
      "cell_type": "code",
      "source": [
        "!python detect.py --weights {best train weight location} --img 416 --conf 0.4 --source /content/yolov5/Basketball-1/test/images"
      ],
      "metadata": {
        "id": "AAKaYcaeuQTP"
      },
      "execution_count": null,
      "outputs": []
    },
    {
      "cell_type": "code",
      "source": [
        "import glob\n",
        "from IPython.display import Image, display, Video\n",
        "\n",
        "# display a sample of test images\n",
        "display(Image(filename=glob.glob('/content/yolov5/runs/detect/exp/*.jpg')[0]))\n",
        "display(Image(filename=glob.glob('/content/yolov5/runs/detect/exp/*.jpg')[50]))\n",
        "display(Image(filename=glob.glob('/content/yolov5/runs/detect/exp/*.jpg')[100]))\n",
        "display(Image(filename=glob.glob('/content/yolov5/runs/detect/exp/*.jpg')[150]))\n",
        "display(Image(filename=glob.glob('/content/yolov5/runs/detect/exp/*.jpg')[200]))\n",
        "display(Image(filename=glob.glob('/content/yolov5/runs/detect/exp/*.jpg')[250]))\n",
        "display(Image(filename=glob.glob('/content/yolov5/runs/detect/exp/*.jpg')[300]))\n",
        "display(Image(filename=glob.glob('/content/yolov5/runs/detect/exp/*.jpg')[350]))\n",
        "display(Image(filename=glob.glob('/content/yolov5/runs/detect/exp/*.jpg')[400]))\n",
        "display(Image(filename=glob.glob('/content/yolov5/runs/detect/exp/*.jpg')[450]))"
      ],
      "metadata": {
        "id": "s-Kr-pWquiec"
      },
      "execution_count": null,
      "outputs": []
    },
    {
      "cell_type": "markdown",
      "source": [
        "Upload any short basketball shot video to test the regression prediction"
      ],
      "metadata": {
        "id": "doNLCTXtvTVp"
      }
    },
    {
      "cell_type": "code",
      "source": [
        "!python linedetect.py --weights {best train weight location}--conf 0.4 --classes 0 --source {video file location} --max-det 1"
      ],
      "metadata": {
        "id": "6z6V1LLAvB7g"
      },
      "execution_count": null,
      "outputs": []
    }
  ]
}
